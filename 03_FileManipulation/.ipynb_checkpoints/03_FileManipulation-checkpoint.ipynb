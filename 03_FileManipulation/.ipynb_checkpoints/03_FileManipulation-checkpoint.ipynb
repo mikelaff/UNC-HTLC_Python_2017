{
 "cells": [
  {
   "cell_type": "markdown",
   "metadata": {},
   "source": [
    "# Manipulating Files Cont."
   ]
  },
  {
   "cell_type": "markdown",
   "metadata": {
    "collapsed": true
   },
   "source": [
    "Today we'll be working with a file called `myDNA.fa` which I generated with python (See `makeRandomFasta.py` to see how I did it!)"
   ]
  },
  {
   "cell_type": "markdown",
   "metadata": {
    "collapsed": true
   },
   "source": [
    "# Outline:\n",
    "## Review reading files\n",
    "\n",
    "## Using dictionaries to key values"
   ]
  },
  {
   "cell_type": "markdown",
   "metadata": {},
   "source": [
    "# Make PWM \n",
    "## Exercise? Homework question?\n",
    "Makes position weight matrix from equal length sequences in fasta file:"
   ]
  },
  {
   "cell_type": "code",
   "execution_count": null,
   "metadata": {
    "collapsed": true
   },
   "outputs": [],
   "source": []
  },
  {
   "cell_type": "code",
   "execution_count": null,
   "metadata": {
    "collapsed": true
   },
   "outputs": [],
   "source": []
  },
  {
   "cell_type": "code",
   "execution_count": 149,
   "metadata": {},
   "outputs": [
    {
     "name": "stdout",
     "output_type": "stream",
     "text": [
      "A\n",
      "[0.24, 0.3, 0.26, 0.28, 0.27, 0.18, 0.23, 0.32, 0.26, 0.27]\n",
      "T\n",
      "[0.25, 0.24, 0.21, 0.26, 0.25, 0.25, 0.26, 0.15, 0.27, 0.31]\n",
      "G\n",
      "[0.18, 0.26, 0.21, 0.21, 0.23, 0.3, 0.33, 0.22, 0.23, 0.18]\n",
      "C\n",
      "[0.33, 0.2, 0.32, 0.25, 0.25, 0.27, 0.18, 0.31, 0.24, 0.24]\n"
     ]
    }
   ],
   "source": [
    "sequences = []\n",
    "with open('PWM.fa', 'r') as infile:\n",
    "    for line in infile:\n",
    "        entry = line.rstrip().split()[0]\n",
    "        if entry[0] == '>':\n",
    "            # Skip header lines\n",
    "            continue\n",
    "        else:\n",
    "            # Save lines containing DNA sequence\n",
    "            sequences.append(entry)\n",
    "            \n",
    "if len(min(sequences)) != len(max(sequences)):\n",
    "       print('unequal sequence length!')\n",
    "else:\n",
    "      sequence_length = len(min(sequences)) \n",
    "       \n",
    "# Create lists which will track number of times that base occurrs at a given position\n",
    "A = []            \n",
    "T = []            \n",
    "G = []            \n",
    "C = []            \n",
    "\n",
    "for i in range(0, sequence_length):\n",
    "    A.append(0)\n",
    "    T.append(0)\n",
    "    G.append(0)\n",
    "    C.append(0)\n",
    " \n",
    "# Count number of times each basepair appears at each position\n",
    "for seq in sequences:\n",
    "    sequence = seq.split()[0]\n",
    "    \n",
    "    for position in range(0, len(sequence)):\n",
    "        base = sequence[position]  \n",
    "        \n",
    "        if base == \"A\":\n",
    "            A[position] += 1 \n",
    "        elif base == \"T\":\n",
    "            T[position] += 1 \n",
    "        elif base == \"G\":\n",
    "            G[position] += 1 \n",
    "        elif base == \"C\":\n",
    "            C[position] += 1 \n",
    "        else:\n",
    "            print(\"unknown base!\")\n",
    "            \n",
    "baseOrder = ['A', 'T', 'G', 'C']\n",
    "bpCount = [A, T, G, C]\n",
    "pwm = bpCount[:] \n",
    "\n",
    "# Calculate frequency of each nucleotide at a given position\n",
    "for base in pwm:\n",
    "    for position in range(0, len(base)):\n",
    "        _bpCount = base[position]\n",
    "        bpFreq = _bpCount / len(sequences)\n",
    "        base[position] = bpFreq\n",
    "        \n",
    "for base, bp in zip(baseOrder, pwm):\n",
    "    print(base)\n",
    "    print(bp)\n",
    "    "
   ]
  }
 ],
 "metadata": {
  "kernelspec": {
   "display_name": "Python 3",
   "language": "python",
   "name": "python3"
  },
  "language_info": {
   "codemirror_mode": {
    "name": "ipython",
    "version": 3
   },
   "file_extension": ".py",
   "mimetype": "text/x-python",
   "name": "python",
   "nbconvert_exporter": "python",
   "pygments_lexer": "ipython3",
   "version": "3.6.0"
  }
 },
 "nbformat": 4,
 "nbformat_minor": 2
}
