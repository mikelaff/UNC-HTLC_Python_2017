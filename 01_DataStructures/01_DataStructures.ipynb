{
 "cells": [
  {
   "cell_type": "markdown",
   "metadata": {},
   "source": [
    "# Some external resources:\n",
    "\n",
    "[Python 3 Course](http://www.python-course.eu/python3_course.php)\n",
    "\n",
    "[Python The Hard Way](https://learnpythonthehardway.org/book/preface.html) \n",
    "\n",
    "## General programming resources:\n",
    "[Stack Exchange](https://stackexchange.com/)\n",
    "Clean Code by Robert C. Martin"
   ]
  },
  {
   "cell_type": "markdown",
   "metadata": {},
   "source": [
    "# First program!"
   ]
  },
  {
   "cell_type": "code",
   "execution_count": 141,
   "metadata": {},
   "outputs": [
    {
     "name": "stdout",
     "output_type": "stream",
     "text": [
      "Hello world\n"
     ]
    }
   ],
   "source": [
    "print('Hello world')"
   ]
  },
  {
   "cell_type": "code",
   "execution_count": 150,
   "metadata": {},
   "outputs": [
    {
     "name": "stdout",
     "output_type": "stream",
     "text": [
      "Hello, Spencer\n",
      "HelloSpencer\n"
     ]
    }
   ],
   "source": [
    "myName = 'Spencer'\n",
    "\n",
    "print('Hello,', myName)  # Comma will add spaces between objects!\n",
    "print('Hello' + myName)  # Strings can be concatenated together with +"
   ]
  },
  {
   "cell_type": "markdown",
   "metadata": {},
   "source": [
    "## Formatting"
   ]
  },
  {
   "cell_type": "code",
   "execution_count": 152,
   "metadata": {},
   "outputs": [
    {
     "name": "stdout",
     "output_type": "stream",
     "text": [
      "Hello Spencer, my name is Python!\n"
     ]
    }
   ],
   "source": [
    "print('Hello %s, my name is %s!' % ('Spencer', 'Python'))"
   ]
  },
  {
   "cell_type": "code",
   "execution_count": 182,
   "metadata": {},
   "outputs": [
    {
     "name": "stdout",
     "output_type": "stream",
     "text": [
      "Hello Spencer, my name is Python version 3!\n",
      "Hello 'Spencer', my name is 'Python' version 3.5!\n"
     ]
    }
   ],
   "source": [
    "print('Hello %s, my name is %s version %d!' % ('Spencer', 'Python', 3))"
   ]
  },
  {
   "cell_type": "code",
   "execution_count": 169,
   "metadata": {},
   "outputs": [
    {
     "name": "stdout",
     "output_type": "stream",
     "text": [
      "Today is: May 24 2017\n"
     ]
    }
   ],
   "source": [
    "month = 'May'\n",
    "day = 24\n",
    "year = 2017\n",
    "\n",
    "print('Today is:', month, day, year)"
   ]
  },
  {
   "cell_type": "markdown",
   "metadata": {},
   "source": [
    "Let's make the print funtion print something more 'human readable'"
   ]
  },
  {
   "cell_type": "code",
   "execution_count": 174,
   "metadata": {},
   "outputs": [
    {
     "name": "stdout",
     "output_type": "stream",
     "text": [
      "Today is: May 24th 2017\n"
     ]
    }
   ],
   "source": [
    "print('Today is: %s %dth %d' % (month, day, year))"
   ]
  },
  {
   "cell_type": "code",
   "execution_count": 175,
   "metadata": {},
   "outputs": [
    {
     "ename": "TypeError",
     "evalue": "unsupported operand type(s) for +: 'int' and 'str'",
     "output_type": "error",
     "traceback": [
      "\u001b[1;31m---------------------------------------------------------------------------\u001b[0m",
      "\u001b[1;31mTypeError\u001b[0m                                 Traceback (most recent call last)",
      "\u001b[1;32m<ipython-input-175-91a5460c17e6>\u001b[0m in \u001b[0;36m<module>\u001b[1;34m()\u001b[0m\n\u001b[1;32m----> 1\u001b[1;33m \u001b[0mprint\u001b[0m\u001b[1;33m(\u001b[0m\u001b[1;34m'Today is:'\u001b[0m\u001b[1;33m,\u001b[0m \u001b[0mmonth\u001b[0m\u001b[1;33m,\u001b[0m \u001b[0mday\u001b[0m \u001b[1;33m+\u001b[0m \u001b[1;34m'th'\u001b[0m\u001b[1;33m,\u001b[0m \u001b[0myear\u001b[0m\u001b[1;33m)\u001b[0m\u001b[1;33m\u001b[0m\u001b[0m\n\u001b[0m",
      "\u001b[1;31mTypeError\u001b[0m: unsupported operand type(s) for +: 'int' and 'str'"
     ]
    }
   ],
   "source": [
    "print('Today is:', month, day + 'th', year)"
   ]
  },
  {
   "cell_type": "code",
   "execution_count": 183,
   "metadata": {},
   "outputs": [
    {
     "name": "stdout",
     "output_type": "stream",
     "text": [
      "Today is: May 24th 2017\n"
     ]
    }
   ],
   "source": [
    "print('Today is:', month, str(day) + 'th', year)"
   ]
  },
  {
   "cell_type": "code",
   "execution_count": 188,
   "metadata": {},
   "outputs": [
    {
     "name": "stdout",
     "output_type": "stream",
     "text": [
      "what's your name?Don\n",
      "Hello, Don\n"
     ]
    }
   ],
   "source": [
    "myName = input(\"what's your name?\")\n",
    "print('Hello,', myName)"
   ]
  },
  {
   "cell_type": "markdown",
   "metadata": {},
   "source": [
    "# Data Structures"
   ]
  },
  {
   "cell_type": "markdown",
   "metadata": {},
   "source": [
    "* **Strings** are text or quoted numbers\n",
    "* **Integers** are *fixed point* numbers\n",
    "* **Floats** are *floating point* numbers (decimals)"
   ]
  },
  {
   "cell_type": "code",
   "execution_count": 44,
   "metadata": {},
   "outputs": [],
   "source": [
    "myString = 'strings are just text'\n",
    "\n",
    "myInt = 10\n",
    "\n",
    "myFloat = 2.5"
   ]
  },
  {
   "cell_type": "markdown",
   "metadata": {},
   "source": [
    "# Operations\n",
    "\n",
    "Computers do math on things!"
   ]
  },
  {
   "cell_type": "markdown",
   "metadata": {},
   "source": [
    "|Operator|Operation|\n",
    "|:---:|:---:|\n",
    "| +  | Addition  |  \n",
    "| -  | Subtraction  |  \n",
    "| *  | Multiplication  |  \n",
    "| /  | Division  |  \n",
    "| //  | Floor division  |  \n",
    "| \\*\\* | Exponent |  "
   ]
  },
  {
   "cell_type": "code",
   "execution_count": 98,
   "metadata": {},
   "outputs": [
    {
     "name": "stdout",
     "output_type": "stream",
     "text": [
      "20\n",
      "100\n",
      "1.0\n",
      "1\n",
      "4\n"
     ]
    }
   ],
   "source": [
    "print(10 + 10)\n",
    "\n",
    "print(10 * 10)\n",
    "\n",
    "print(10 / 10)  \n",
    "\n",
    "print(10 // 10)\n",
    "\n",
    "print(2**2)"
   ]
  },
  {
   "cell_type": "markdown",
   "metadata": {},
   "source": [
    "### Division gotchas"
   ]
  },
  {
   "cell_type": "code",
   "execution_count": 107,
   "metadata": {},
   "outputs": [
    {
     "name": "stdout",
     "output_type": "stream",
     "text": [
      "5.0\n",
      "5\n",
      "5.0\n"
     ]
    }
   ],
   "source": [
    "print(10 / 2)\n",
    "print(10 // 2)\n",
    "print(10.0 // 2) # Floor division will return float if input is not an int!\n"
   ]
  },
  {
   "cell_type": "markdown",
   "metadata": {},
   "source": [
    "# Math with variables"
   ]
  },
  {
   "cell_type": "code",
   "execution_count": 133,
   "metadata": {},
   "outputs": [
    {
     "name": "stdout",
     "output_type": "stream",
     "text": [
      "60 word\n"
     ]
    }
   ],
   "source": [
    "# Operations can be assigned to variables!\n",
    "output = 20 + 40 \n",
    "print(output)"
   ]
  },
  {
   "cell_type": "code",
   "execution_count": 114,
   "metadata": {},
   "outputs": [
    {
     "name": "stdout",
     "output_type": "stream",
     "text": [
      "60\n"
     ]
    }
   ],
   "source": [
    "# Variables can be used in operations!\n",
    "myVar = 20\n",
    "output = myVar + 40 \n",
    "print(output)"
   ]
  },
  {
   "cell_type": "code",
   "execution_count": 115,
   "metadata": {},
   "outputs": [
    {
     "name": "stdout",
     "output_type": "stream",
     "text": [
      "400\n"
     ]
    }
   ],
   "source": [
    "print(myVar * myVar)"
   ]
  },
  {
   "cell_type": "markdown",
   "metadata": {},
   "source": [
    "# Functions\n",
    "Functions are bits of code that take input, do something, and return output.\n",
    "\n",
    "`print()` function takes an object and prints its value to the screen, then tells python whether it was successful!"
   ]
  },
  {
   "cell_type": "code",
   "execution_count": 120,
   "metadata": {},
   "outputs": [
    {
     "name": "stdout",
     "output_type": "stream",
     "text": [
      "Here is some text\n"
     ]
    }
   ],
   "source": [
    "print('Here is some text')"
   ]
  },
  {
   "cell_type": "markdown",
   "metadata": {},
   "source": [
    "functions can be defined with the `def` keyword:"
   ]
  },
  {
   "cell_type": "code",
   "execution_count": 121,
   "metadata": {
    "collapsed": true
   },
   "outputs": [],
   "source": [
    "def myFunction(myInput):\n",
    "    print(myInput)"
   ]
  },
  {
   "cell_type": "code",
   "execution_count": 123,
   "metadata": {},
   "outputs": [
    {
     "name": "stdout",
     "output_type": "stream",
     "text": [
      "Here is some text\n"
     ]
    }
   ],
   "source": [
    "myFunction('Here is some text')"
   ]
  },
  {
   "cell_type": "code",
   "execution_count": 130,
   "metadata": {},
   "outputs": [
    {
     "data": {
      "text/plain": [
       "4"
      ]
     },
     "execution_count": 130,
     "metadata": {},
     "output_type": "execute_result"
    }
   ],
   "source": [
    "def Add(a, b):\n",
    "    return(a + b) # return() will not print output, but will instead redirect output to variables\n",
    "\n",
    "Add(2,2)"
   ]
  },
  {
   "cell_type": "code",
   "execution_count": 129,
   "metadata": {},
   "outputs": [
    {
     "name": "stdout",
     "output_type": "stream",
     "text": [
      "4\n"
     ]
    }
   ],
   "source": [
    "mySum = Add(2,2)\n",
    "print(mySum)"
   ]
  },
  {
   "cell_type": "markdown",
   "metadata": {},
   "source": [
    "# Practice 1:\n",
    "## Write a function that prints "
   ]
  },
  {
   "attachments": {
    "string_positions.png": {
     "image/png": "[encoded data removed]"
    }
   },
   "cell_type": "markdown",
   "metadata": {},
   "source": [
    "![string_positions.png](attachment:string_positions.png)"
   ]
  },
  {
   "cell_type": "markdown",
   "metadata": {},
   "source": [
    "## Data Type can be accessed with the `type()` function"
   ]
  },
  {
   "cell_type": "code",
   "execution_count": 45,
   "metadata": {},
   "outputs": [
    {
     "name": "stdout",
     "output_type": "stream",
     "text": [
      "<class 'str'>\n",
      "<class 'int'>\n",
      "<class 'float'>\n"
     ]
    }
   ],
   "source": [
    "print(type(myString))\n",
    "print(type(myInt))\n",
    "print(type(myFloat))"
   ]
  },
  {
   "cell_type": "markdown",
   "metadata": {},
   "source": [
    "## What type be the output of these operations?"
   ]
  },
  {
   "cell_type": "code",
   "execution_count": 109,
   "metadata": {},
   "outputs": [],
   "source": [
    "out1 = myInt + 20\n",
    "out2 = myInt / 2\n",
    "out3 = myInt // 2"
   ]
  },
  {
   "cell_type": "code",
   "execution_count": 110,
   "metadata": {},
   "outputs": [
    {
     "name": "stdout",
     "output_type": "stream",
     "text": [
      "30\n",
      "<class 'int'>\n",
      "\n",
      "\n",
      "5.0\n",
      "<class 'float'>\n",
      "\n",
      "\n",
      "5\n",
      "<class 'int'>\n"
     ]
    }
   ],
   "source": [
    "print(out1)\n",
    "print(type(out1)) \n",
    "print('\\n')\n",
    "\n",
    "print(out2)\n",
    "print(type(out2))\n",
    "print('\\n')\n",
    "\n",
    "print(out3)\n",
    "print(type(out3))"
   ]
  },
  {
   "cell_type": "code",
   "execution_count": 36,
   "metadata": {},
   "outputs": [
    {
     "name": "stdout",
     "output_type": "stream",
     "text": [
      "hello world\n",
      "one\n",
      "two\n",
      "three\n",
      "['one', 'two', 'three', 4]\n",
      "two\n",
      "['one', 'two', 'three', 4, 'world']\n"
     ]
    }
   ],
   "source": [
    "print('hello world')\n",
    "\n",
    "for i in ['one', 'two', 'three']:\n",
    "    print(i)\n",
    "    \n",
    "    \n",
    "# This is an array:\n",
    "myArray = ['one', 'two', 'three', 4]\n",
    "\n",
    "print(myArray)\n",
    "# Arrays are 0 indexed\n",
    "print(myArray[1])\n",
    "myArray.append('world') # Values can be added to arrays with the `append` method\n",
    "print(myArray)"
   ]
  },
  {
   "cell_type": "code",
   "execution_count": null,
   "metadata": {
    "collapsed": true
   },
   "outputs": [],
   "source": []
  }
 ],
 "metadata": {
  "celltoolbar": "Raw Cell Format",
  "kernelspec": {
   "display_name": "Python 3",
   "language": "python",
   "name": "python3"
  },
  "language_info": {
   "codemirror_mode": {
    "name": "ipython",
    "version": 3
   },
   "file_extension": ".py",
   "mimetype": "text/x-python",
   "name": "python",
   "nbconvert_exporter": "python",
   "pygments_lexer": "ipython3",
   "version": "3.5.3"
  }
 },
 "nbformat": 4,
 "nbformat_minor": 2
}
