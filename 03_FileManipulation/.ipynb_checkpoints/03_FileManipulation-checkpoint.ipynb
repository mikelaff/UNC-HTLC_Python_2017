{
 "cells": [
  {
   "cell_type": "markdown",
   "metadata": {},
   "source": [
    "# Manipulating Files Cont."
   ]
  },
  {
   "cell_type": "markdown",
   "metadata": {
    "collapsed": true
   },
   "source": [
    "Today we'll be working with a file called `myDNA.fa` which I generated with python (See `makeRandomFasta.py` to see how I did it!)"
   ]
  },
  {
   "cell_type": "markdown",
   "metadata": {
    "collapsed": true
   },
   "source": [
    "# Outline:\n",
    "## Review reading files\n",
    "\n",
    "## Reading different common filetypes\n",
    " - CSV (Never use excel again!)\n",
    "  - Excel export CSV! \n",
    " - Fasta\n",
    " \n",
    "\n",
    "## Using dictionaries to key values"
   ]
  },
  {
   "cell_type": "markdown",
   "metadata": {},
   "source": [
    "# Make PWM \n",
    "## Exercise? Homework question?\n",
    "Makes position weight matrix from equal length sequences in fasta file:"
   ]
  },
  {
   "cell_type": "code",
   "execution_count": null,
   "metadata": {},
   "outputs": [],
   "source": [
    "sequences = []\n",
    "with open('PWM.fa', 'r') as infile:\n",
    "    for line in infile:\n",
    "        entry = line.rstrip().split()[0]\n",
    "        if entry[0] == '>':\n",
    "            # Skip header lines\n",
    "            continue\n",
    "        else:\n",
    "            # Save lines containing DNA sequence\n",
    "            sequences.append(entry)\n",
    "            \n",
    "if len(min(sequences)) != len(max(sequences)):\n",
    "       print('unequal sequence length!')\n",
    "else:\n",
    "      sequence_length = len(min(sequences)) \n",
    "       \n",
    "# Create lists which will track number of times that base occurrs at a given position\n",
    "A = []            \n",
    "T = []            \n",
    "G = []            \n",
    "C = []            \n",
    "\n",
    "for i in range(0, sequence_length):\n",
    "    A.append(0)\n",
    "    T.append(0)\n",
    "    G.append(0)\n",
    "    C.append(0)\n",
    " \n",
    "# Count number of times each basepair appears at each position\n",
    "for seq in sequences:\n",
    "    sequence = seq.split()[0]\n",
    "    \n",
    "    for position in range(0, len(sequence)):\n",
    "        base = sequence[position]  \n",
    "        \n",
    "        if base == \"A\":\n",
    "            A[position] += 1 \n",
    "        elif base == \"T\":\n",
    "            T[position] += 1 \n",
    "        elif base == \"G\":\n",
    "            G[position] += 1 \n",
    "        elif base == \"C\":\n",
    "            C[position] += 1 \n",
    "        else:\n",
    "            print(\"unknown base!\")\n",
    "            \n",
    "baseOrder = ['A', 'T', 'G', 'C']\n",
    "bpCount = [A, T, G, C]\n",
    "pwm = bpCount[:] \n",
    "\n",
    "# Calculate frequency of each nucleotide at a given position\n",
    "for base in pwm:\n",
    "    for position in range(0, len(base)):\n",
    "        _bpCount = base[position]\n",
    "        bpFreq = _bpCount / len(sequences)\n",
    "        base[position] = bpFreq\n",
    "        \n",
    "for base, bp in zip(baseOrder, pwm):\n",
    "    print(base)\n",
    "    print(bp)\n",
    "    "
   ]
  },
  {
   "cell_type": "code",
   "execution_count": 42,
   "metadata": {},
   "outputs": [
    {
     "name": "stdout",
     "output_type": "stream",
     "text": [
      "['>Seq_1\\nACTACT\\n', '>Seq_2\\nTATACT\\n', '>Seq_3\\nTCTACT\\n', '>Seq_4\\nAACACT\\n', '>Seq_5\\nAGTACT\\n', '>Seq_6\\nTGTAGT\\n', '>Seq_7\\nTGGTAT\\n', '>Seq_8\\nTTTATT\\n', '>Seq_9\\nAGTTCA\\n', '>Seq_10\\nAATAAT\\n']\n"
     ]
    }
   ],
   "source": [
    "import random\n",
    "import numpy as np\n",
    "\n",
    "# PWM to generate sequences from\n",
    "bases = ['A', 'T', 'G', 'C']\n",
    "pBase1 = [0.8, 0.2, 0, 0]\n",
    "pBase2 = [0.1, 0.2, 0.5, 0.2]\n",
    "pBase3 = [0.1, 0.8, 0.05, 0.05]\n",
    "pBase4 = [0.8, 0.1, 0.05, 0.05]\n",
    "pBase5 = [0.2, 0.1, 0.2, 0.5]\n",
    "pBase6 = [0.2, 0.8, 0, 0]\n",
    "\n",
    "pwm_model = [pBase1, pBase2, pBase3, pBase4, pBase5, pBase6]\n",
    "\n",
    "\n",
    "def makeRandomFastaFromPWM(pwm_model, nSeq = 1):\n",
    "    sequences = []\n",
    "    headers = []\n",
    "   # take nsequences and run loop foreach one \n",
    "    for i in range(1, nSeq+1):\n",
    "        seq = [] \n",
    "        for position in range(0, len(pwm_model)):\n",
    "            pBase = pwm_model[position]\n",
    "            base = np.random.choice(bases, p = pBase)\n",
    "            seq.append(base)\n",
    "            \n",
    "        sequence = ''.join(seq)\n",
    "        headerString = '>Seq_{0}'.format(i)\n",
    "        \n",
    "        sequences.append(sequence)\n",
    "        headers.append(headerString)\n",
    "        \n",
    "    output = []\n",
    "    for head, seq in zip(headers, sequences):\n",
    "        entry = head + '\\n' + seq + '\\n'\n",
    "        output.append(entry)\n",
    "    return(output)\n",
    "        \n",
    "    \n",
    "    \n",
    "#print(seq)\n",
    "\n",
    "s = makeRandomFastaFromPWM(pwm_model, nSeq = 10) \n",
    "print(s)\n",
    "    "
   ]
  }
 ],
 "metadata": {
  "kernelspec": {
   "display_name": "Python 3",
   "language": "python",
   "name": "python3"
  },
  "language_info": {
   "codemirror_mode": {
    "name": "ipython",
    "version": 3
   },
   "file_extension": ".py",
   "mimetype": "text/x-python",
   "name": "python",
   "nbconvert_exporter": "python",
   "pygments_lexer": "ipython3",
   "version": "3.5.3"
  }
 },
 "nbformat": 4,
 "nbformat_minor": 2
}
